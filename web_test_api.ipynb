{
 "cells": [
  {
   "cell_type": "code",
   "execution_count": 5,
   "metadata": {},
   "outputs": [],
   "source": [
    "import requests\n",
    "import json\n",
    "\n",
    "# Replace this URL with your actual FastAPI server URL\n",
    "url = \"https://diverse-cuddly-dodo.ngrok-free.app/chat/\"\n",
    "url = \"https://deyang6.linkj.cn:16501/chat/\""
   ]
  },
  {
   "cell_type": "code",
   "execution_count": 6,
   "metadata": {},
   "outputs": [],
   "source": [
    "\n",
    "# Sample payload\n",
    "payload = {\n",
    "    \"character_choice\": \"张起灵\",\n",
    "    \"query\": \"你好啊！\",\n",
    "    \"history\": [],\n",
    "    \"max_length\": 2048,\n",
    "    \"top_p\": 0.8,\n",
    "    \"temperature\": 0.9,\n",
    "    \"repetition_penalty\": 1.0,\n",
    "    \"num_beams\": 1,\n",
    "}\n",
    "\n",
    "# Sending a POST request to the FastAPI endpoint\n",
    "response = requests.post(url, json=payload)"
   ]
  },
  {
   "cell_type": "code",
   "execution_count": 7,
   "metadata": {},
   "outputs": [
    {
     "name": "stdout",
     "output_type": "stream",
     "text": [
      "URL: https://diverse-cuddly-dodo.ngrok-free.app/chat/\n",
      "Method: POST\n",
      "Headers: {'User-Agent': 'python-requests/2.31.0', 'Accept-Encoding': 'gzip, deflate', 'Accept': '*/*', 'Connection': 'keep-alive', 'Content-Length': '191', 'Content-Type': 'application/json'}\n",
      "Body: b'{\"character_choice\": \"\\\\u5f20\\\\u8d77\\\\u7075\", \"query\": \"\\\\u4f60\\\\u597d\\\\u554a\\\\uff01\", \"history\": [], \"max_length\": 2048, \"top_p\": 0.8, \"temperature\": 0.9, \"repetition_penalty\": 1.0, \"num_beams\": 1}'\n"
     ]
    }
   ],
   "source": [
    "req = requests.Request('POST', url, json=payload)\n",
    "with requests.Session() as session:\n",
    "    # Prepare the request\n",
    "    prepared = session.prepare_request(req)\n",
    "\n",
    "    # Now you can print out the details\n",
    "    print(f\"URL: {prepared.url}\")\n",
    "    print(f\"Method: {prepared.method}\")\n",
    "    print(f\"Headers: {prepared.headers}\")\n",
    "    print(f\"Body: {prepared.body}\")"
   ]
  },
  {
   "cell_type": "code",
   "execution_count": 9,
   "metadata": {},
   "outputs": [
    {
     "name": "stdout",
     "output_type": "stream",
     "text": [
      "Status Code: 200\n",
      "Response Body: {'response': '这里怎么这么黑？ （皱了皱眉）', 'history': [['', '（他的脸被黑色帽檐遮盖着，微微抬头看了你一眼）嗯？'], ['你好啊！', '这里怎么这么黑？ （皱了皱眉）']]}\n"
     ]
    }
   ],
   "source": [
    "# Print the response from the server\n",
    "print(\"Status Code:\", response.status_code)\n",
    "print(\"Response Body:\", response.json())"
   ]
  },
  {
   "cell_type": "code",
   "execution_count": 10,
   "metadata": {},
   "outputs": [
    {
     "data": {
      "text/plain": [
       "'这里怎么这么黑？ （皱了皱眉）'"
      ]
     },
     "execution_count": 10,
     "metadata": {},
     "output_type": "execute_result"
    }
   ],
   "source": [
    "response.json()['response']"
   ]
  },
  {
   "cell_type": "code",
   "execution_count": null,
   "metadata": {},
   "outputs": [],
   "source": [
    "history = response.json()['history']"
   ]
  }
 ],
 "metadata": {
  "kernelspec": {
   "display_name": ".venv",
   "language": "python",
   "name": "python3"
  },
  "language_info": {
   "codemirror_mode": {
    "name": "ipython",
    "version": 3
   },
   "file_extension": ".py",
   "mimetype": "text/x-python",
   "name": "python",
   "nbconvert_exporter": "python",
   "pygments_lexer": "ipython3",
   "version": "3.11.8"
  }
 },
 "nbformat": 4,
 "nbformat_minor": 2
}
